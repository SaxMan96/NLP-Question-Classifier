{
 "cells": [
  {
   "cell_type": "code",
   "execution_count": 1,
   "metadata": {},
   "outputs": [
    {
     "data": {
      "text/markdown": [
       "Question|Type\r\n",
       "---|---\r\n",
       "Is Hirschsprung disease a mendelian or a multifactorial disorder?|summary\r\n",
       "List signaling molecules (ligands) that interact with the receptor EGFR?|list\r\n",
       "Is the protein Papilin secreted?|yesno\r\n",
       "Are long non coding RNAs spliced?|yesno\r\n",
       "Is RANKL secreted from the cells?|yesno\r\n"
      ],
      "text/plain": [
       "<IPython.core.display.Markdown object>"
      ]
     },
     "execution_count": 1,
     "metadata": {},
     "output_type": "execute_result"
    }
   ],
   "source": [
    "import pandas as pd\n",
    "import numpy as np\n",
    "import nltk\n",
    "pd.set_option(\"display.max_colwidth\",80)\n",
    "\n",
    "df = pd.read_csv(\"Questions.csv\", sep=\";\")\n",
    "def pandas_df_to_markdown_table(df):\n",
    "    from IPython.display import Markdown, display\n",
    "    fmt = ['---' for i in range(len(df.columns))]\n",
    "    df_fmt = pd.DataFrame([fmt], columns=df.columns)\n",
    "    df_formatted = pd.concat([df_fmt, df])\n",
    "    return Markdown(df_formatted.to_csv(sep=\"|\", index=False))\n",
    "pandas_df_to_markdown_table(df.head())"
   ]
  },
  {
   "cell_type": "code",
   "execution_count": 2,
   "metadata": {},
   "outputs": [
    {
     "data": {
      "text/plain": [
       "(2251, 2)"
      ]
     },
     "execution_count": 2,
     "metadata": {},
     "output_type": "execute_result"
    }
   ],
   "source": [
    "df.shape"
   ]
  },
  {
   "cell_type": "code",
   "execution_count": 3,
   "metadata": {},
   "outputs": [
    {
     "name": "stdout",
     "output_type": "stream",
     "text": [
      "0    summary\n",
      "1       list\n",
      "2      yesno\n",
      "3      yesno\n",
      "4      yesno\n",
      "Name: Type, dtype: object\n",
      "0           Is Hirschsprung disease a mendelian or a multifactorial disorder?\n",
      "1    List signaling molecules (ligands) that interact with the receptor EGFR?\n",
      "2                                            Is the protein Papilin secreted?\n",
      "3                                           Are long non coding RNAs spliced?\n",
      "4                                           Is RANKL secreted from the cells?\n",
      "Name: Question, dtype: object\n"
     ]
    }
   ],
   "source": [
    "labels = df.Type\n",
    "print(labels.head())\n",
    "questions = df.Question\n",
    "print(questions.head())"
   ]
  },
  {
   "cell_type": "code",
   "execution_count": 4,
   "metadata": {},
   "outputs": [],
   "source": [
    "from nltk.corpus import stopwords\n",
    "from nltk import pos_tag\n",
    "from nltk.stem import PorterStemmer\n",
    "import re\n",
    "\n",
    "from string import punctuation\n",
    "from nltk.stem import WordNetLemmatizer\n",
    "wnl = WordNetLemmatizer()\n",
    "porter = PorterStemmer()\n",
    "stopwords_en = set(stopwords.words('english'))\n",
    "\n",
    "\n",
    "def lemmatize(p):\n",
    "    if p[1][0] in {'N', 'V'}:\n",
    "        return wnl.lemmatize(p[0].lower(), pos=p[1][0].lower())\n",
    "    return p[0]\n",
    "\n",
    "\n",
    "def preprocess_text(text):\n",
    "    tokens = nltk.word_tokenize(text)\n",
    "    tokens = [token for token in tokens if token not in stopwords_en]\n",
    "    tokens = [token for token in tokens if token not in punctuation]\n",
    "    tokens = [re.sub(r'[^a-zA-Z]', \"\", token) for token in tokens]\n",
    "    tokens = [token for token in tokens if len(token) > 1]\n",
    "    tokens = [token.lower() for token in tokens]\n",
    "    tokens = [lemmatize(pair) for pair in pos_tag(tokens)]\n",
    "    tokens = [porter.stem(token) for token in tokens]\n",
    "    return tokens"
   ]
  },
  {
   "cell_type": "code",
   "execution_count": 5,
   "metadata": {},
   "outputs": [
    {
     "data": {
      "text/plain": [
       "['list', 'signal', 'molecul', 'ligand', 'interact', 'receptor', 'egfr']"
      ]
     },
     "execution_count": 5,
     "metadata": {},
     "output_type": "execute_result"
    }
   ],
   "source": [
    "preprocess_text(\n",
    "    \"List signaling molecules ligands that interact with the receptor EGFR?\"\n",
    ")"
   ]
  },
  {
   "cell_type": "code",
   "execution_count": 6,
   "metadata": {},
   "outputs": [
    {
     "data": {
      "text/plain": [
       "3601"
      ]
     },
     "execution_count": 6,
     "metadata": {},
     "output_type": "execute_result"
    }
   ],
   "source": [
    "from io import StringIO\n",
    "from sklearn.feature_extraction.text import CountVectorizer\n",
    "\n",
    "with StringIO('\\n'.join([i for i in questions.values])) as text:\n",
    "    count_vect = CountVectorizer(analyzer=preprocess_text)\n",
    "    count_vect.fit_transform(text)\n",
    "len(count_vect.vocabulary_)"
   ]
  },
  {
   "cell_type": "code",
   "execution_count": 7,
   "metadata": {},
   "outputs": [
    {
     "name": "stdout",
     "output_type": "stream",
     "text": [
      "Vocabulary: ('aa', 'aagena', 'abacavir', 'abatacept', 'abc') ...\n"
     ]
    }
   ],
   "source": [
    "from operator import itemgetter\n",
    "words_sorted_by_index, _ = zip(*sorted(count_vect.vocabulary_.items(), key=itemgetter(1)))\n",
    "print('Vocabulary:', words_sorted_by_index[:5], \"...\")"
   ]
  },
  {
   "cell_type": "code",
   "execution_count": 8,
   "metadata": {},
   "outputs": [
    {
     "data": {
      "text/plain": [
       "((2251,), (2251, 3601))"
      ]
     },
     "execution_count": 8,
     "metadata": {},
     "output_type": "execute_result"
    }
   ],
   "source": [
    "x = count_vect.transform([i for i in questions.values]).toarray()\n",
    "y, classes = pd.factorize(labels)\n",
    "y.shape, x.shape"
   ]
  },
  {
   "cell_type": "code",
   "execution_count": 13,
   "metadata": {},
   "outputs": [],
   "source": [
    "clfs_to_test = ['DTC', 'RFC', 'KNN', 'LR', 'XGB']\n",
    "clfs_to_test = [\"LR\"]"
   ]
  },
  {
   "cell_type": "code",
   "execution_count": 39,
   "metadata": {
    "scrolled": false
   },
   "outputs": [],
   "source": [
    "from utilities import *\n",
    "import pickle\n",
    "from sklearn.model_selection import train_test_split\n",
    "import warnings\n",
    "warnings.filterwarnings(\"ignore\")\n",
    "\n",
    "# with open('gs_list.pickle', 'wb') as handle:\n",
    "#     pickle.dump(gs_list, handle, protocol=pickle.HIGHEST_PROTOCOL)\n",
    "with open('gs_list.pickle', 'rb') as handle:\n",
    "    gs_list = pickle.load(handle)\n",
    "    \n",
    "x_train, x_valid, y_train, y_valid = train_test_split(x, y, test_size=0.3, random_state=0)\n",
    "# gs_list = model_selection(clfs_to_test, x_train, x_valid, y_train, y_valid)\n",
    "\n",
    "clf = gs_list[0][1]"
   ]
  },
  {
   "cell_type": "code",
   "execution_count": 38,
   "metadata": {},
   "outputs": [
    {
     "name": "stdout",
     "output_type": "stream",
     "text": [
      "Do you like to study?\n",
      "class: yesno\n",
      "How do you feel rright now?\n",
      "class: summary\n",
      "What is your name?\n",
      "class: summary\n",
      "List two of your favourie films.\n",
      "class: list\n",
      "What is the biggest country in Europe?\n",
      "class: summary\n",
      "Where are you?\n",
      "class: factoid\n",
      "How old are you?\n",
      "class: summary\n",
      "d\n",
      "class: factoid\n",
      "d\n",
      "class: factoid\n",
      "d\n",
      "class: factoid\n",
      "\n",
      "class: factoid\n",
      "d\n",
      "class: factoid\n",
      "d\n",
      "class: factoid\n",
      "d\n",
      "class: factoid\n",
      "d\n",
      "class: factoid\n"
     ]
    }
   ],
   "source": [
    "def predict_question(question):\n",
    "    x = count_vect.transform([question]).toarray()\n",
    "    return classes[clf.predict(x)[0]]\n",
    "        \n",
    "        \n",
    "for i in range(15):\n",
    "    question = input()\n",
    "    print(\"class:\", predict_question(question))"
   ]
  }
 ],
 "metadata": {
  "kernelspec": {
   "display_name": "Python 3",
   "language": "python",
   "name": "python3"
  },
  "language_info": {
   "codemirror_mode": {
    "name": "ipython",
    "version": 3
   },
   "file_extension": ".py",
   "mimetype": "text/x-python",
   "name": "python",
   "nbconvert_exporter": "python",
   "pygments_lexer": "ipython3",
   "version": "3.7.4"
  },
  "toc": {
   "base_numbering": 1,
   "nav_menu": {},
   "number_sections": true,
   "sideBar": true,
   "skip_h1_title": false,
   "title_cell": "Table of Contents",
   "title_sidebar": "Contents",
   "toc_cell": false,
   "toc_position": {},
   "toc_section_display": true,
   "toc_window_display": false
  }
 },
 "nbformat": 4,
 "nbformat_minor": 2
}
